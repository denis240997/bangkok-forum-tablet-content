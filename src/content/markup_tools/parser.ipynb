{
 "cells": [
  {
   "cell_type": "code",
   "execution_count": 29,
   "id": "a6171f55-6ffb-4274-88d0-7e6368a48bd6",
   "metadata": {},
   "outputs": [],
   "source": [
    "import re\n",
    "import json\n",
    "import pyperclip"
   ]
  },
  {
   "cell_type": "code",
   "execution_count": null,
   "id": "867604db-9e20-4a56-9234-6b30c20b42f9",
   "metadata": {},
   "outputs": [],
   "source": [
    "{\n",
    "    \"type\": \"readmore\",\n",
    "    \"href\": \"https://investmoscow.ru/\"\n",
    "}"
   ]
  },
  {
   "cell_type": "code",
   "execution_count": null,
   "id": "c8a24f16-d6c4-4c2a-a146-28ea59f81f02",
   "metadata": {},
   "outputs": [],
   "source": [
    "{\n",
    "    \"type\": \"subcategory\",\n",
    "    \"name\": \"Name\",\n",
    "    \"content\": []\n",
    "},"
   ]
  },
  {
   "cell_type": "code",
   "execution_count": null,
   "id": "712bc4f2-de84-4320-a484-84629710bdb4",
   "metadata": {},
   "outputs": [],
   "source": [
    "{\n",
    "    \"type\": \"presentation\",\n",
    "    \"number\": \"1\",\n",
    "    \"start\": \"2\",\n",
    "    \"end\": \"3\"\n",
    "}"
   ]
  },
  {
   "cell_type": "code",
   "execution_count": 40,
   "id": "0538a40d-e1dc-4b82-9d22-eaa770f239ac",
   "metadata": {},
   "outputs": [
    {
     "name": "stdout",
     "output_type": "stream",
     "text": [
      "p\n",
      "p\n",
      "list\n",
      "list\n",
      "list\n",
      "p\n",
      "p\n",
      "p\n",
      "p\n",
      "p\n",
      "p\n"
     ]
    }
   ],
   "source": [
    "awards_pattern = re.compile('AWARDS:')\n",
    "year = re.compile('\\d\\d\\d\\d')\n",
    "\n",
    "content = []\n",
    "with open(\"content.txt\", \"r\", encoding='utf-8') as file:\n",
    "    year_awards = None\n",
    "    state = \"p\"\n",
    "    for line in file:\n",
    "        if not line.strip():\n",
    "            continue\n",
    "        elif line.startswith(\"•\\t\") or line.startswith(\"- \") or line.startswith(\"·\\t\"):\n",
    "            if state != \"list\":\n",
    "                state = \"list\"\n",
    "                lst = []\n",
    "            lst.append(line.lstrip(\"•\\t\").lstrip(\"- \").lstrip(\"·\\t\").strip())\n",
    "        elif state == \"list\":\n",
    "            item = {\n",
    "                \"type\": \"list\",\n",
    "                \"content\": lst,\n",
    "            }\n",
    "            content.append(item)\n",
    "            state = \"p\"\n",
    "            \n",
    "        if awards_pattern.match(line):\n",
    "            print('AWARDS')\n",
    "            awards = []\n",
    "            state = \"awards\"\n",
    "        elif state == \"awards\":\n",
    "            if year.match(line):\n",
    "                if year_awards:\n",
    "                    awards.append(year_awards)\n",
    "                \n",
    "                year_awards = {\n",
    "                    \"year\": line.strip(),\n",
    "                    \"awards\": [],\n",
    "                }\n",
    "            else:\n",
    "                year_awards[\"awards\"].append(line.strip())\n",
    "                \n",
    "        elif state == \"p\":\n",
    "            content.append(line.strip())\n",
    "        print(state)\n",
    "            \n",
    "    if year_awards:\n",
    "        awards.append(year_awards)\n",
    "        item = {\n",
    "            \"type\": \"awards\",\n",
    "            \"content\": awards,\n",
    "        }\n",
    "        content.append(item)\n",
    "        \n",
    "    \n",
    "pyperclip.copy(json.dumps(content, indent=4))"
   ]
  },
  {
   "cell_type": "code",
   "execution_count": null,
   "id": "3ee28418-cffc-40a1-9e47-ae921bc2cc2b",
   "metadata": {},
   "outputs": [],
   "source": [
    "# slides converted with https://convertio.co/ru/pptx-jpg/\n",
    "\n",
    "import os\n",
    "import re\n",
    "\n",
    "slide_name = re.compile('\\w+?-(\\d+\\..+)')\n",
    "\n",
    "PATH = 'C:/Users/hamit/Desktop/mos_ru/src/content/presentations/'\n",
    "for i in os.listdir(PATH):\n",
    "    folder = f'{PATH}{i}/'\n",
    "    for name in os.listdir(folder):\n",
    "        if not slide_name.match(name):\n",
    "            print(name)\n",
    "            continue\n",
    "        file = f'{folder}/{name}'\n",
    "        num = slide_name.match(name).groups()[0]\n",
    "        new_file = f'{folder}/{num}'\n",
    "        os.rename(file, new_file)"
   ]
  },
  {
   "cell_type": "code",
   "execution_count": 1,
   "id": "ab49c631-b796-4fa4-bcd4-bc0083ac7909",
   "metadata": {},
   "outputs": [],
   "source": [
    "# build preparation \n",
    "\n",
    "import os\n",
    "import re\n",
    "import shutil, errno\n",
    "\n",
    "\n",
    "def copy_dir_content(src, dst):\n",
    "    try:\n",
    "        shutil.copytree(src, dst)\n",
    "    except OSError as exc: # python >2.5\n",
    "        if exc.errno in (errno.ENOTDIR, errno.EINVAL):\n",
    "            shutil.copy(src, dst)\n",
    "        else: raise\n",
    "\n",
    "PUBLIC_PATH = '../../../public/'\n",
    "CONTENT_PATH = '../../content/'\n",
    "CONTENT_JSON_PATH = f'{CONTENT_PATH}content.json'\n",
    "PUBLIC_CONTENT_JSON_PATH = f'{CONTENT_PATH}content_public.json'\n",
    "\n",
    "shutil.rmtree(PUBLIC_PATH)\n",
    "\n",
    "copy_dir_content(CONTENT_PATH, PUBLIC_PATH)\n",
    "shutil.rmtree(f'{PUBLIC_PATH}markup_tools')\n",
    "\n",
    "with open(CONTENT_JSON_PATH, 'r') as content_file:\n",
    "    content = content_file.read()\n",
    "    \n",
    "with open(PUBLIC_CONTENT_JSON_PATH, 'w') as content_file:\n",
    "    content_file.write(re.sub('/src/content', '', content))"
   ]
  },
  {
   "cell_type": "code",
   "execution_count": 63,
   "id": "e9bd3133-bc2d-4af5-b871-46e491989608",
   "metadata": {},
   "outputs": [],
   "source": [
    "import os\n",
    "import re\n",
    "\n",
    "def replace_px(s):\n",
    "    while True:\n",
    "        match = re.search('\\s(\\d+)px', s)\n",
    "        if match:\n",
    "            px = match.group()\n",
    "            n_px = int(match.groups()[0])\n",
    "\n",
    "            n_vw = n_px / 19.2\n",
    "            vw = f' {n_vw:.5f}vw'\n",
    "            s = re.sub(px, vw, s)\n",
    "            print(px, n_px, vw, sep='\\t')\n",
    "        else:\n",
    "            return s"
   ]
  },
  {
   "cell_type": "code",
   "execution_count": 56,
   "id": "21d1a833-3be4-4ce0-ba0a-609c52a25a43",
   "metadata": {},
   "outputs": [],
   "source": [
    "# def replace_px(s):\n",
    "#     while True:\n",
    "#         match = re.search('\\s(\\d*\\.\\d+)px', s)\n",
    "#         if match:\n",
    "#             px = match.group()\n",
    "#             n_px = float(match.groups()[0])\n",
    "\n",
    "#             n_vw = n_px / 19.2\n",
    "#             vw = f' {n_vw:.5f}vw'\n",
    "#             s = re.sub(px, vw, s)\n",
    "#             print(px, n_px, vw, sep='\\t')\n",
    "#         else:\n",
    "#             return s"
   ]
  },
  {
   "cell_type": "code",
   "execution_count": 42,
   "id": "f5a72173-b3b1-40eb-9701-0409fe369eaa",
   "metadata": {},
   "outputs": [],
   "source": [
    "css_files = [\n",
    "    './src/App-preview.css',\n",
    "    './src/App.css',\n",
    "    './src/components/styles/AwardsCard.css',\n",
    "    './src/components/styles/DetailList.css',\n",
    "    './src/components/styles/DetailLogo.css',\n",
    "    './src/components/styles/DetailQR.css',\n",
    "    './src/components/styles/GoalCard.css',\n",
    "    './src/components/styles/ImageCard.css',\n",
    "    './src/components/styles/InlineImage.css',\n",
    "    './src/components/styles/NavButton.css',\n",
    "    './src/components/styles/SliderModal.css',\n",
    "    './src/components/styles/SubGoalCard.css',\n",
    "    './src/index.css',\n",
    "    './src/pages/styles/DetailFrame.css',\n",
    "    './src/pages/styles/GoalDetailFrame.css',\n",
    "    './src/pages/styles/MainFrame.css',\n",
    "    './src/pages/styles/PageLayout.css',\n",
    "    './src/widgets/styles/Awards.css',\n",
    "    './src/widgets/styles/BottomNav.css',\n",
    "    './src/widgets/styles/LogoBar.css',\n",
    "    './src/widgets/styles/NestedDetailBlock.css'\n",
    "]"
   ]
  },
  {
   "cell_type": "code",
   "execution_count": 66,
   "id": "e59316c9-ac3d-4d4b-8287-823a31928df5",
   "metadata": {
    "tags": []
   },
   "outputs": [],
   "source": [
    "for file_name in css_files:\n",
    "\n",
    "    with open(file_name, 'r') as file:\n",
    "        cont = file.read()\n",
    "\n",
    "    cont = replace_px(cont)\n",
    "\n",
    "    with open(file_name, 'w') as file:\n",
    "        file.write(cont)"
   ]
  }
 ],
 "metadata": {
  "kernelspec": {
   "display_name": "Python 3 (ipykernel)",
   "language": "python",
   "name": "python3"
  },
  "language_info": {
   "codemirror_mode": {
    "name": "ipython",
    "version": 3
   },
   "file_extension": ".py",
   "mimetype": "text/x-python",
   "name": "python",
   "nbconvert_exporter": "python",
   "pygments_lexer": "ipython3",
   "version": "3.11.1"
  }
 },
 "nbformat": 4,
 "nbformat_minor": 5
}
