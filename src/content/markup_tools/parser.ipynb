{
 "cells": [
  {
   "cell_type": "code",
   "execution_count": 35,
   "id": "a6171f55-6ffb-4274-88d0-7e6368a48bd6",
   "metadata": {},
   "outputs": [],
   "source": [
    "import re\n",
    "import json\n",
    "import pyperclip"
   ]
  },
  {
   "cell_type": "code",
   "execution_count": null,
   "id": "867604db-9e20-4a56-9234-6b30c20b42f9",
   "metadata": {},
   "outputs": [],
   "source": [
    "{\n",
    "    \"type\": \"readmore\",\n",
    "    \"href\": \"https\"\n",
    "}"
   ]
  },
  {
   "cell_type": "code",
   "execution_count": null,
   "id": "c8a24f16-d6c4-4c2a-a146-28ea59f81f02",
   "metadata": {},
   "outputs": [],
   "source": [
    "{\n",
    "    \"type\": \"subcategory\",\n",
    "    \"name\": \"Name\",\n",
    "    \"content\": []\n",
    "},"
   ]
  },
  {
   "cell_type": "code",
   "execution_count": null,
   "id": "712bc4f2-de84-4320-a484-84629710bdb4",
   "metadata": {},
   "outputs": [],
   "source": [
    "{\n",
    "    \"type\": \"presentation\",\n",
    "    \"number\": 6,\n",
    "    \"start\": 18,\n",
    "    \"end\": 20\n",
    "}"
   ]
  },
  {
   "cell_type": "code",
   "execution_count": 69,
   "id": "0538a40d-e1dc-4b82-9d22-eaa770f239ac",
   "metadata": {},
   "outputs": [
    {
     "name": "stdout",
     "output_type": "stream",
     "text": [
      "p\n",
      "p\n",
      "list\n",
      "list\n",
      "list\n",
      "p\n",
      "p\n",
      "p\n",
      "p\n",
      "p\n",
      "p\n"
     ]
    }
   ],
   "source": [
    "awards_pattern = re.compile('AWARDS:')\n",
    "year = re.compile('\\d\\d\\d\\d')\n",
    "\n",
    "content = []\n",
    "with open(\"content.txt\", \"r\", encoding='utf-8') as file:\n",
    "    year_awards = None\n",
    "    state = \"p\"\n",
    "    for line in file:\n",
    "        if not line.strip():\n",
    "            continue\n",
    "        elif line.startswith(\"•\\t\") or line.startswith(\"- \") or line.startswith(\"·\\t\"):\n",
    "            if state != \"list\":\n",
    "                state = \"list\"\n",
    "                lst = []\n",
    "            lst.append(line.lstrip(\"•\\t\").lstrip(\"- \").lstrip(\"·\\t\").strip())\n",
    "        elif state == \"list\":\n",
    "            item = {\n",
    "                \"type\": \"list\",\n",
    "                \"content\": lst,\n",
    "            }\n",
    "            content.append(item)\n",
    "            state = \"p\"\n",
    "            \n",
    "        if awards_pattern.match(line):\n",
    "            print('AWARDS')\n",
    "            awards = []\n",
    "            state = \"awards\"\n",
    "        elif state == \"awards\":\n",
    "            if year.match(line):\n",
    "                if year_awards:\n",
    "                    awards.append(year_awards)\n",
    "                \n",
    "                year_awards = {\n",
    "                    \"year\": line.strip(),\n",
    "                    \"awards\": [],\n",
    "                }\n",
    "            else:\n",
    "                year_awards[\"awards\"].append(line.strip())\n",
    "                \n",
    "        elif state == \"p\":\n",
    "            content.append(line.strip())\n",
    "        print(state)\n",
    "            \n",
    "    if year_awards:\n",
    "        awards.append(year_awards)\n",
    "        item = {\n",
    "            \"type\": \"awards\",\n",
    "            \"content\": awards,\n",
    "        }\n",
    "        content.append(item)\n",
    "        \n",
    "    \n",
    "pyperclip.copy(json.dumps(content, indent=4))"
   ]
  },
  {
   "cell_type": "code",
   "execution_count": null,
   "id": "3ee28418-cffc-40a1-9e47-ae921bc2cc2b",
   "metadata": {},
   "outputs": [],
   "source": [
    "# slides converted with https://convertio.co/ru/pptx-jpg/\n",
    "\n",
    "import os\n",
    "import re\n",
    "\n",
    "slide_name = re.compile('\\w+?-(\\d+\\..+)')\n",
    "\n",
    "PATH = 'C:/Users/hamit/Desktop/mos_ru/src/content/presentations/'\n",
    "for i in os.listdir(PATH):\n",
    "    folder = f'{PATH}{i}/'\n",
    "    for name in os.listdir(folder):\n",
    "        if not slide_name.match(name):\n",
    "            print(name)\n",
    "            continue\n",
    "        file = f'{folder}/{name}'\n",
    "        num = slide_name.match(name).groups()[0]\n",
    "        new_file = f'{folder}/{num}'\n",
    "        os.rename(file, new_file)"
   ]
  },
  {
   "cell_type": "code",
   "execution_count": 27,
   "id": "ab49c631-b796-4fa4-bcd4-bc0083ac7909",
   "metadata": {},
   "outputs": [],
   "source": [
    "# build preparation \n",
    "\n",
    "import os\n",
    "import re\n",
    "import shutil, errno\n",
    "\n",
    "\n",
    "def copy_dir_content(src, dst):\n",
    "    try:\n",
    "        shutil.copytree(src, dst)\n",
    "    except OSError as exc: # python >2.5\n",
    "        if exc.errno in (errno.ENOTDIR, errno.EINVAL):\n",
    "            shutil.copy(src, dst)\n",
    "        else: raise\n",
    "\n",
    "PUBLIC_PATH = '../../../public/'\n",
    "CONTENT_PATH = '../../content/'\n",
    "CONTENT_JSON_PATH = f'{CONTENT_PATH}content.json'\n",
    "PUBLIC_CONTENT_JSON_PATH = f'{CONTENT_PATH}content_public.json'\n",
    "\n",
    "shutil.rmtree(PUBLIC_PATH)\n",
    "\n",
    "copy_dir_content(CONTENT_PATH, PUBLIC_PATH)\n",
    "shutil.rmtree(f'{PUBLIC_PATH}markup_tools')\n",
    "\n",
    "with open(CONTENT_JSON_PATH, 'r') as content_file:\n",
    "    content = content_file.read()\n",
    "    \n",
    "with open(PUBLIC_CONTENT_JSON_PATH, 'w') as content_file:\n",
    "    content_file.write(re.sub('/src/content', '', content))"
   ]
  }
 ],
 "metadata": {
  "kernelspec": {
   "display_name": "Python 3 (ipykernel)",
   "language": "python",
   "name": "python3"
  },
  "language_info": {
   "codemirror_mode": {
    "name": "ipython",
    "version": 3
   },
   "file_extension": ".py",
   "mimetype": "text/x-python",
   "name": "python",
   "nbconvert_exporter": "python",
   "pygments_lexer": "ipython3",
   "version": "3.11.1"
  }
 },
 "nbformat": 4,
 "nbformat_minor": 5
}
